{
 "cells": [
  {
   "cell_type": "code",
   "execution_count": 2,
   "id": "9127e2c8",
   "metadata": {},
   "outputs": [],
   "source": [
    "import numpy as np\n",
    "import pandas as pd\n",
    "import matplotlib.pyplot as plt\n"
   ]
  },
  {
   "cell_type": "code",
   "execution_count": 3,
   "id": "27504c19",
   "metadata": {},
   "outputs": [],
   "source": [
    "data = pd.read_csv(\"twitter_training.csv\")"
   ]
  },
  {
   "cell_type": "code",
   "execution_count": 4,
   "id": "0eeef7d3",
   "metadata": {},
   "outputs": [
    {
     "data": {
      "text/html": [
       "<div>\n",
       "<style scoped>\n",
       "    .dataframe tbody tr th:only-of-type {\n",
       "        vertical-align: middle;\n",
       "    }\n",
       "\n",
       "    .dataframe tbody tr th {\n",
       "        vertical-align: top;\n",
       "    }\n",
       "\n",
       "    .dataframe thead th {\n",
       "        text-align: right;\n",
       "    }\n",
       "</style>\n",
       "<table border=\"1\" class=\"dataframe\">\n",
       "  <thead>\n",
       "    <tr style=\"text-align: right;\">\n",
       "      <th></th>\n",
       "      <th>2401</th>\n",
       "      <th>Borderlands</th>\n",
       "      <th>Positive</th>\n",
       "      <th>im getting on borderlands and i will murder you all ,</th>\n",
       "    </tr>\n",
       "  </thead>\n",
       "  <tbody>\n",
       "    <tr>\n",
       "      <th>0</th>\n",
       "      <td>2401</td>\n",
       "      <td>Borderlands</td>\n",
       "      <td>Positive</td>\n",
       "      <td>I am coming to the borders and I will kill you...</td>\n",
       "    </tr>\n",
       "    <tr>\n",
       "      <th>1</th>\n",
       "      <td>2401</td>\n",
       "      <td>Borderlands</td>\n",
       "      <td>Positive</td>\n",
       "      <td>im getting on borderlands and i will kill you ...</td>\n",
       "    </tr>\n",
       "    <tr>\n",
       "      <th>2</th>\n",
       "      <td>2401</td>\n",
       "      <td>Borderlands</td>\n",
       "      <td>Positive</td>\n",
       "      <td>im coming on borderlands and i will murder you...</td>\n",
       "    </tr>\n",
       "    <tr>\n",
       "      <th>3</th>\n",
       "      <td>2401</td>\n",
       "      <td>Borderlands</td>\n",
       "      <td>Positive</td>\n",
       "      <td>im getting on borderlands 2 and i will murder ...</td>\n",
       "    </tr>\n",
       "    <tr>\n",
       "      <th>4</th>\n",
       "      <td>2401</td>\n",
       "      <td>Borderlands</td>\n",
       "      <td>Positive</td>\n",
       "      <td>im getting into borderlands and i can murder y...</td>\n",
       "    </tr>\n",
       "    <tr>\n",
       "      <th>...</th>\n",
       "      <td>...</td>\n",
       "      <td>...</td>\n",
       "      <td>...</td>\n",
       "      <td>...</td>\n",
       "    </tr>\n",
       "    <tr>\n",
       "      <th>74676</th>\n",
       "      <td>9200</td>\n",
       "      <td>Nvidia</td>\n",
       "      <td>Positive</td>\n",
       "      <td>Just realized that the Windows partition of my...</td>\n",
       "    </tr>\n",
       "    <tr>\n",
       "      <th>74677</th>\n",
       "      <td>9200</td>\n",
       "      <td>Nvidia</td>\n",
       "      <td>Positive</td>\n",
       "      <td>Just realized that my Mac window partition is ...</td>\n",
       "    </tr>\n",
       "    <tr>\n",
       "      <th>74678</th>\n",
       "      <td>9200</td>\n",
       "      <td>Nvidia</td>\n",
       "      <td>Positive</td>\n",
       "      <td>Just realized the windows partition of my Mac ...</td>\n",
       "    </tr>\n",
       "    <tr>\n",
       "      <th>74679</th>\n",
       "      <td>9200</td>\n",
       "      <td>Nvidia</td>\n",
       "      <td>Positive</td>\n",
       "      <td>Just realized between the windows partition of...</td>\n",
       "    </tr>\n",
       "    <tr>\n",
       "      <th>74680</th>\n",
       "      <td>9200</td>\n",
       "      <td>Nvidia</td>\n",
       "      <td>Positive</td>\n",
       "      <td>Just like the windows partition of my Mac is l...</td>\n",
       "    </tr>\n",
       "  </tbody>\n",
       "</table>\n",
       "<p>74681 rows × 4 columns</p>\n",
       "</div>"
      ],
      "text/plain": [
       "       2401  Borderlands  Positive  \\\n",
       "0      2401  Borderlands  Positive   \n",
       "1      2401  Borderlands  Positive   \n",
       "2      2401  Borderlands  Positive   \n",
       "3      2401  Borderlands  Positive   \n",
       "4      2401  Borderlands  Positive   \n",
       "...     ...          ...       ...   \n",
       "74676  9200       Nvidia  Positive   \n",
       "74677  9200       Nvidia  Positive   \n",
       "74678  9200       Nvidia  Positive   \n",
       "74679  9200       Nvidia  Positive   \n",
       "74680  9200       Nvidia  Positive   \n",
       "\n",
       "      im getting on borderlands and i will murder you all ,  \n",
       "0      I am coming to the borders and I will kill you...     \n",
       "1      im getting on borderlands and i will kill you ...     \n",
       "2      im coming on borderlands and i will murder you...     \n",
       "3      im getting on borderlands 2 and i will murder ...     \n",
       "4      im getting into borderlands and i can murder y...     \n",
       "...                                                  ...     \n",
       "74676  Just realized that the Windows partition of my...     \n",
       "74677  Just realized that my Mac window partition is ...     \n",
       "74678  Just realized the windows partition of my Mac ...     \n",
       "74679  Just realized between the windows partition of...     \n",
       "74680  Just like the windows partition of my Mac is l...     \n",
       "\n",
       "[74681 rows x 4 columns]"
      ]
     },
     "execution_count": 4,
     "metadata": {},
     "output_type": "execute_result"
    }
   ],
   "source": [
    "data"
   ]
  },
  {
   "cell_type": "code",
   "execution_count": 5,
   "id": "cb68ab65",
   "metadata": {},
   "outputs": [],
   "source": [
    "def preprocess(text):\n",
    "    if isinstance(text, str):  # Check if it's a string\n",
    "        text = text.lower()\n",
    "        text = ''.join([char for char in text if char.isalnum() or char.isspace()])\n",
    "        return text\n",
    "    else:\n",
    "        return ''  # Return an empty string for non-string values\n"
   ]
  },
  {
   "cell_type": "code",
   "execution_count": 57,
   "id": "ac855527",
   "metadata": {},
   "outputs": [],
   "source": [
    "from sklearn.feature_extraction.text import TfidfTransformer\n",
    "from sklearn.compose import ColumnTransformer\n"
   ]
  },
  {
   "cell_type": "code",
   "execution_count": 89,
   "id": "26d2be2c",
   "metadata": {},
   "outputs": [
    {
     "data": {
      "text/html": [
       "<div>\n",
       "<style scoped>\n",
       "    .dataframe tbody tr th:only-of-type {\n",
       "        vertical-align: middle;\n",
       "    }\n",
       "\n",
       "    .dataframe tbody tr th {\n",
       "        vertical-align: top;\n",
       "    }\n",
       "\n",
       "    .dataframe thead th {\n",
       "        text-align: right;\n",
       "    }\n",
       "</style>\n",
       "<table border=\"1\" class=\"dataframe\">\n",
       "  <thead>\n",
       "    <tr style=\"text-align: right;\">\n",
       "      <th></th>\n",
       "      <th>2401</th>\n",
       "      <th>Borderlands</th>\n",
       "      <th>Sentiments</th>\n",
       "      <th>Text</th>\n",
       "    </tr>\n",
       "  </thead>\n",
       "  <tbody>\n",
       "    <tr>\n",
       "      <th>0</th>\n",
       "      <td>2401</td>\n",
       "      <td>Borderlands</td>\n",
       "      <td>Positive</td>\n",
       "      <td>I am coming to the borders and I will kill you...</td>\n",
       "    </tr>\n",
       "    <tr>\n",
       "      <th>1</th>\n",
       "      <td>2401</td>\n",
       "      <td>Borderlands</td>\n",
       "      <td>Positive</td>\n",
       "      <td>im getting on borderlands and i will kill you ...</td>\n",
       "    </tr>\n",
       "    <tr>\n",
       "      <th>2</th>\n",
       "      <td>2401</td>\n",
       "      <td>Borderlands</td>\n",
       "      <td>Positive</td>\n",
       "      <td>im coming on borderlands and i will murder you...</td>\n",
       "    </tr>\n",
       "    <tr>\n",
       "      <th>3</th>\n",
       "      <td>2401</td>\n",
       "      <td>Borderlands</td>\n",
       "      <td>Positive</td>\n",
       "      <td>im getting on borderlands 2 and i will murder ...</td>\n",
       "    </tr>\n",
       "    <tr>\n",
       "      <th>4</th>\n",
       "      <td>2401</td>\n",
       "      <td>Borderlands</td>\n",
       "      <td>Positive</td>\n",
       "      <td>im getting into borderlands and i can murder y...</td>\n",
       "    </tr>\n",
       "    <tr>\n",
       "      <th>...</th>\n",
       "      <td>...</td>\n",
       "      <td>...</td>\n",
       "      <td>...</td>\n",
       "      <td>...</td>\n",
       "    </tr>\n",
       "    <tr>\n",
       "      <th>74676</th>\n",
       "      <td>9200</td>\n",
       "      <td>Nvidia</td>\n",
       "      <td>Positive</td>\n",
       "      <td>Just realized that the Windows partition of my...</td>\n",
       "    </tr>\n",
       "    <tr>\n",
       "      <th>74677</th>\n",
       "      <td>9200</td>\n",
       "      <td>Nvidia</td>\n",
       "      <td>Positive</td>\n",
       "      <td>Just realized that my Mac window partition is ...</td>\n",
       "    </tr>\n",
       "    <tr>\n",
       "      <th>74678</th>\n",
       "      <td>9200</td>\n",
       "      <td>Nvidia</td>\n",
       "      <td>Positive</td>\n",
       "      <td>Just realized the windows partition of my Mac ...</td>\n",
       "    </tr>\n",
       "    <tr>\n",
       "      <th>74679</th>\n",
       "      <td>9200</td>\n",
       "      <td>Nvidia</td>\n",
       "      <td>Positive</td>\n",
       "      <td>Just realized between the windows partition of...</td>\n",
       "    </tr>\n",
       "    <tr>\n",
       "      <th>74680</th>\n",
       "      <td>9200</td>\n",
       "      <td>Nvidia</td>\n",
       "      <td>Positive</td>\n",
       "      <td>Just like the windows partition of my Mac is l...</td>\n",
       "    </tr>\n",
       "  </tbody>\n",
       "</table>\n",
       "<p>74681 rows × 4 columns</p>\n",
       "</div>"
      ],
      "text/plain": [
       "       2401  Borderlands Sentiments  \\\n",
       "0      2401  Borderlands   Positive   \n",
       "1      2401  Borderlands   Positive   \n",
       "2      2401  Borderlands   Positive   \n",
       "3      2401  Borderlands   Positive   \n",
       "4      2401  Borderlands   Positive   \n",
       "...     ...          ...        ...   \n",
       "74676  9200       Nvidia   Positive   \n",
       "74677  9200       Nvidia   Positive   \n",
       "74678  9200       Nvidia   Positive   \n",
       "74679  9200       Nvidia   Positive   \n",
       "74680  9200       Nvidia   Positive   \n",
       "\n",
       "                                                    Text  \n",
       "0      I am coming to the borders and I will kill you...  \n",
       "1      im getting on borderlands and i will kill you ...  \n",
       "2      im coming on borderlands and i will murder you...  \n",
       "3      im getting on borderlands 2 and i will murder ...  \n",
       "4      im getting into borderlands and i can murder y...  \n",
       "...                                                  ...  \n",
       "74676  Just realized that the Windows partition of my...  \n",
       "74677  Just realized that my Mac window partition is ...  \n",
       "74678  Just realized the windows partition of my Mac ...  \n",
       "74679  Just realized between the windows partition of...  \n",
       "74680  Just like the windows partition of my Mac is l...  \n",
       "\n",
       "[74681 rows x 4 columns]"
      ]
     },
     "execution_count": 89,
     "metadata": {},
     "output_type": "execute_result"
    }
   ],
   "source": [
    "# data.rename(columns={\"Positive\":\"Sentiments\",\"im getting on borderlands and i will murder you all ,\":\"Text\"}, inplace=True)\n"
   ]
  },
  {
   "cell_type": "code",
   "execution_count": 94,
   "id": "fa2754e8",
   "metadata": {},
   "outputs": [],
   "source": [
    "from sklearn.feature_extraction.text import TfidfVectorizer\n",
    "data['Text'].fillna('', inplace=True)\n",
    "data[\"Text\"].apply(preprocess)\n",
    "Y = data[\"Sentiments\"].apply(preprocess)\n",
    "from sklearn.preprocessing import LabelEncoder\n",
    "\n",
    "\n",
    "\n",
    "TFIDF = TfidfVectorizer(stop_words=\"english\")\n",
    "\n",
    "\n",
    "processedX = TFIDF.fit_transform(data[\"Text\"])\n",
    "labelEncoder = LabelEncoder()\n",
    "Y = labelEncoder.fit_transform(data['Sentiments'])\n",
    "\n",
    "TrainX, TestX, TrainY, TestY = train_test_split(processedX, Y, test_size=0.3, random_state=42)\n"
   ]
  },
  {
   "cell_type": "code",
   "execution_count": 95,
   "id": "b92cea19",
   "metadata": {},
   "outputs": [],
   "source": [
    "# from sklearn.model_selection import train_test_split\n",
    "\n",
    "# # Assuming processedX and Y are already defined\n"
   ]
  },
  {
   "cell_type": "code",
   "execution_count": 96,
   "id": "47ac2996",
   "metadata": {},
   "outputs": [
    {
     "data": {
      "text/plain": [
       "MultinomialNB()"
      ]
     },
     "execution_count": 96,
     "metadata": {},
     "output_type": "execute_result"
    }
   ],
   "source": [
    "from sklearn.naive_bayes import MultinomialNB\n",
    "from sklearn.pipeline import Pipeline,make_pipeline\n",
    "MultinomalNaiveClassifier = MultinomialNB()\n",
    "\n",
    "MultinomalNaiveClassifier.fit(TrainX,TrainY)\n",
    "\n"
   ]
  },
  {
   "cell_type": "code",
   "execution_count": 97,
   "id": "441cd7c9",
   "metadata": {},
   "outputs": [
    {
     "data": {
      "text/plain": [
       "0.7329167596518634"
      ]
     },
     "execution_count": 97,
     "metadata": {},
     "output_type": "execute_result"
    }
   ],
   "source": [
    "MultinomalNaiveClassifier.score(TestX,TestY)"
   ]
  },
  {
   "cell_type": "code",
   "execution_count": 98,
   "id": "94d5ff8e",
   "metadata": {},
   "outputs": [],
   "source": [
    "# Analysis and evaluation using 4 steps"
   ]
  },
  {
   "cell_type": "code",
   "execution_count": 99,
   "id": "67ac5cc3",
   "metadata": {},
   "outputs": [],
   "source": [
    "# Accuracy Score\n",
    "# Roc\n",
    "# Classification \n",
    "# Confusion matrix\n"
   ]
  },
  {
   "cell_type": "code",
   "execution_count": 100,
   "id": "f2fd9e38",
   "metadata": {},
   "outputs": [],
   "source": [
    "from sklearn.metrics import accuracy_score,precision_score,recall_score,f1_score"
   ]
  },
  {
   "cell_type": "code",
   "execution_count": 101,
   "id": "4d99ef04",
   "metadata": {},
   "outputs": [],
   "source": [
    "from sklearn.model_selection import cross_val_score"
   ]
  },
  {
   "cell_type": "code",
   "execution_count": 102,
   "id": "56830dea",
   "metadata": {},
   "outputs": [],
   "source": [
    "predict = MultinomalNaiveClassifier.predict(TestX)"
   ]
  },
  {
   "cell_type": "code",
   "execution_count": 103,
   "id": "04165384",
   "metadata": {},
   "outputs": [
    {
     "data": {
      "text/plain": [
       "array([0, 3, 1, ..., 3, 1, 1])"
      ]
     },
     "execution_count": 103,
     "metadata": {},
     "output_type": "execute_result"
    }
   ],
   "source": [
    "predict"
   ]
  },
  {
   "cell_type": "code",
   "execution_count": 104,
   "id": "6316a9a7",
   "metadata": {},
   "outputs": [
    {
     "data": {
      "text/plain": [
       "0.7329167596518634"
      ]
     },
     "execution_count": 104,
     "metadata": {},
     "output_type": "execute_result"
    }
   ],
   "source": [
    "accuracy_score(TestY,predict)"
   ]
  },
  {
   "cell_type": "code",
   "execution_count": 105,
   "id": "d10a46f8",
   "metadata": {},
   "outputs": [
    {
     "name": "stdout",
     "output_type": "stream",
     "text": [
      "0.791209816556032\n"
     ]
    }
   ],
   "source": [
    "\n",
    "print(precision_score(TestY,predict,average=\"macro\"))#macro 79.12 best\n"
   ]
  },
  {
   "cell_type": "code",
   "execution_count": 106,
   "id": "e54eb80d",
   "metadata": {},
   "outputs": [],
   "source": [
    "# recall_score(TestY,predict,average=\"weighted\")#same micro and weighted"
   ]
  },
  {
   "cell_type": "code",
   "execution_count": 107,
   "id": "d94de8c3",
   "metadata": {},
   "outputs": [],
   "source": [
    "# f1_score(TestY,predict,average=\"weighted\")"
   ]
  },
  {
   "cell_type": "code",
   "execution_count": 108,
   "id": "69c4b6f5",
   "metadata": {},
   "outputs": [],
   "source": [
    "# # Hyper param tunings\n",
    "hparams = {\n",
    "   'alpha': [0.01, 0.05,1.22,1.44,2.22,2.5,26.25,12.5,25.4,11.99,9.25,3.66,3.87,2.67,66.25,99.21,21.21, 0.1, 0.2, 0.3, 0.4, 0.5, 0.6, 0.7, 0.8, 0.9, 1.0, 1.2, 1.5, 1.8, 2.0,\n",
    "              2.5, 3.0, 3.5, 4.0, 4.5, 5.0, 6.0, 7.0, 8.0, 9.0, 10.0,\n",
    "              12.0, 15.0, 18.0, 20.0, 25.0, 30.0, 35.0, 40.0, 45.0, 50.0,\n",
    "              60.0, 70.0, 80.0, 90.0, 100.0, 150.0, 200.0, 250.0, 300.0,\n",
    "              350.0, 400.0, 500.0],\n",
    "    'fit_prior': [True, False]\n",
    "   \n",
    "}\n",
    "# from sklearn.model_selection import RandomizedSearchCV\n"
   ]
  },
  {
   "cell_type": "code",
   "execution_count": 109,
   "id": "e4bde7c3",
   "metadata": {},
   "outputs": [],
   "source": [
    "# # ROC\n",
    "\n",
    "from sklearn.model_selection import GridSearchCV"
   ]
  },
  {
   "cell_type": "code",
   "execution_count": null,
   "id": "23a41972",
   "metadata": {},
   "outputs": [],
   "source": []
  },
  {
   "cell_type": "code",
   "execution_count": null,
   "id": "a2af902a",
   "metadata": {},
   "outputs": [],
   "source": [
    "\n"
   ]
  },
  {
   "cell_type": "code",
   "execution_count": null,
   "id": "8d05969a",
   "metadata": {},
   "outputs": [],
   "source": []
  },
  {
   "cell_type": "code",
   "execution_count": 110,
   "id": "d25bdcd0",
   "metadata": {},
   "outputs": [],
   "source": [
    "gridParams = {\n",
    "    'alpha': [0.01, 0.05, 1.22, 1.44, 2.22, 2.5, 26.25, 12.5, 25.4, 11.99, 9.25, 3.66, 3.87, 2.67, 66.25, 99.21, 21.21, \n",
    "              0.1, 0.2, 0.3, 0.4, 0.5, 0.6, 0.7, 0.8, 0.9, 1.0, 1.2, 1.5, 1.8, 2.0,\n",
    "              12.0, 15.0, 18.0, 20.0, 25.0, 30.0, 35.0, 40.0, 45.0, 50.0,\n",
    "              60.0, 70.0, 80.0, 90.0, 100.0, 150.0, 200.0, 250.0, 300.0],\n",
    "    'fit_prior': [True, False]\n",
    "}\n",
    "\n",
    "\n",
    "from sklearn.model_selection import  GridSearchCV\n",
    "gscvModel = GridSearchCV(estimator=MultinomalNaiveClassifier,cv=7,verbose=2,param_grid=gridParams, scoring=\"precision_macro\")"
   ]
  },
  {
   "cell_type": "code",
   "execution_count": 111,
   "id": "dac8f9e1",
   "metadata": {},
   "outputs": [
    {
     "name": "stdout",
     "output_type": "stream",
     "text": [
      "Fitting 7 folds for each of 100 candidates, totalling 700 fits\n",
      "[CV] END .........................alpha=0.01, fit_prior=True; total time=   0.0s\n",
      "[CV] END .........................alpha=0.01, fit_prior=True; total time=   0.0s\n",
      "[CV] END .........................alpha=0.01, fit_prior=True; total time=   0.0s\n",
      "[CV] END .........................alpha=0.01, fit_prior=True; total time=   0.0s\n",
      "[CV] END .........................alpha=0.01, fit_prior=True; total time=   0.0s\n",
      "[CV] END .........................alpha=0.01, fit_prior=True; total time=   0.0s\n",
      "[CV] END .........................alpha=0.01, fit_prior=True; total time=   0.0s\n",
      "[CV] END ........................alpha=0.01, fit_prior=False; total time=   0.0s\n",
      "[CV] END ........................alpha=0.01, fit_prior=False; total time=   0.0s\n",
      "[CV] END ........................alpha=0.01, fit_prior=False; total time=   0.0s\n",
      "[CV] END ........................alpha=0.01, fit_prior=False; total time=   0.0s\n",
      "[CV] END ........................alpha=0.01, fit_prior=False; total time=   0.0s\n",
      "[CV] END ........................alpha=0.01, fit_prior=False; total time=   0.0s\n",
      "[CV] END ........................alpha=0.01, fit_prior=False; total time=   0.0s\n",
      "[CV] END .........................alpha=0.05, fit_prior=True; total time=   0.0s\n",
      "[CV] END .........................alpha=0.05, fit_prior=True; total time=   0.0s\n",
      "[CV] END .........................alpha=0.05, fit_prior=True; total time=   0.0s\n",
      "[CV] END .........................alpha=0.05, fit_prior=True; total time=   0.0s\n",
      "[CV] END .........................alpha=0.05, fit_prior=True; total time=   0.0s\n",
      "[CV] END .........................alpha=0.05, fit_prior=True; total time=   0.0s\n",
      "[CV] END .........................alpha=0.05, fit_prior=True; total time=   0.0s\n",
      "[CV] END ........................alpha=0.05, fit_prior=False; total time=   0.0s\n",
      "[CV] END ........................alpha=0.05, fit_prior=False; total time=   0.0s\n",
      "[CV] END ........................alpha=0.05, fit_prior=False; total time=   0.0s\n",
      "[CV] END ........................alpha=0.05, fit_prior=False; total time=   0.0s\n",
      "[CV] END ........................alpha=0.05, fit_prior=False; total time=   0.0s\n",
      "[CV] END ........................alpha=0.05, fit_prior=False; total time=   0.0s\n",
      "[CV] END ........................alpha=0.05, fit_prior=False; total time=   0.0s\n",
      "[CV] END .........................alpha=1.22, fit_prior=True; total time=   0.0s\n",
      "[CV] END .........................alpha=1.22, fit_prior=True; total time=   0.0s\n",
      "[CV] END .........................alpha=1.22, fit_prior=True; total time=   0.0s\n",
      "[CV] END .........................alpha=1.22, fit_prior=True; total time=   0.0s\n",
      "[CV] END .........................alpha=1.22, fit_prior=True; total time=   0.0s\n",
      "[CV] END .........................alpha=1.22, fit_prior=True; total time=   0.0s\n",
      "[CV] END .........................alpha=1.22, fit_prior=True; total time=   0.0s\n",
      "[CV] END ........................alpha=1.22, fit_prior=False; total time=   0.0s\n",
      "[CV] END ........................alpha=1.22, fit_prior=False; total time=   0.0s\n",
      "[CV] END ........................alpha=1.22, fit_prior=False; total time=   0.0s\n",
      "[CV] END ........................alpha=1.22, fit_prior=False; total time=   0.0s\n",
      "[CV] END ........................alpha=1.22, fit_prior=False; total time=   0.0s\n",
      "[CV] END ........................alpha=1.22, fit_prior=False; total time=   0.0s\n",
      "[CV] END ........................alpha=1.22, fit_prior=False; total time=   0.0s\n",
      "[CV] END .........................alpha=1.44, fit_prior=True; total time=   0.0s\n",
      "[CV] END .........................alpha=1.44, fit_prior=True; total time=   0.0s\n",
      "[CV] END .........................alpha=1.44, fit_prior=True; total time=   0.0s\n",
      "[CV] END .........................alpha=1.44, fit_prior=True; total time=   0.0s\n",
      "[CV] END .........................alpha=1.44, fit_prior=True; total time=   0.0s\n",
      "[CV] END .........................alpha=1.44, fit_prior=True; total time=   0.0s\n",
      "[CV] END .........................alpha=1.44, fit_prior=True; total time=   0.0s\n",
      "[CV] END ........................alpha=1.44, fit_prior=False; total time=   0.0s\n",
      "[CV] END ........................alpha=1.44, fit_prior=False; total time=   0.0s\n",
      "[CV] END ........................alpha=1.44, fit_prior=False; total time=   0.0s\n",
      "[CV] END ........................alpha=1.44, fit_prior=False; total time=   0.0s\n",
      "[CV] END ........................alpha=1.44, fit_prior=False; total time=   0.0s\n",
      "[CV] END ........................alpha=1.44, fit_prior=False; total time=   0.0s\n",
      "[CV] END ........................alpha=1.44, fit_prior=False; total time=   0.0s\n",
      "[CV] END .........................alpha=2.22, fit_prior=True; total time=   0.0s\n",
      "[CV] END .........................alpha=2.22, fit_prior=True; total time=   0.0s\n",
      "[CV] END .........................alpha=2.22, fit_prior=True; total time=   0.0s\n",
      "[CV] END .........................alpha=2.22, fit_prior=True; total time=   0.0s\n",
      "[CV] END .........................alpha=2.22, fit_prior=True; total time=   0.0s\n",
      "[CV] END .........................alpha=2.22, fit_prior=True; total time=   0.0s\n",
      "[CV] END .........................alpha=2.22, fit_prior=True; total time=   0.0s\n",
      "[CV] END ........................alpha=2.22, fit_prior=False; total time=   0.0s\n",
      "[CV] END ........................alpha=2.22, fit_prior=False; total time=   0.0s\n",
      "[CV] END ........................alpha=2.22, fit_prior=False; total time=   0.0s\n",
      "[CV] END ........................alpha=2.22, fit_prior=False; total time=   0.0s\n",
      "[CV] END ........................alpha=2.22, fit_prior=False; total time=   0.0s\n",
      "[CV] END ........................alpha=2.22, fit_prior=False; total time=   0.0s\n",
      "[CV] END ........................alpha=2.22, fit_prior=False; total time=   0.0s\n",
      "[CV] END ..........................alpha=2.5, fit_prior=True; total time=   0.0s\n",
      "[CV] END ..........................alpha=2.5, fit_prior=True; total time=   0.0s\n",
      "[CV] END ..........................alpha=2.5, fit_prior=True; total time=   0.0s\n",
      "[CV] END ..........................alpha=2.5, fit_prior=True; total time=   0.0s\n",
      "[CV] END ..........................alpha=2.5, fit_prior=True; total time=   0.0s\n",
      "[CV] END ..........................alpha=2.5, fit_prior=True; total time=   0.0s\n",
      "[CV] END ..........................alpha=2.5, fit_prior=True; total time=   0.0s\n",
      "[CV] END .........................alpha=2.5, fit_prior=False; total time=   0.0s\n",
      "[CV] END .........................alpha=2.5, fit_prior=False; total time=   0.0s\n",
      "[CV] END .........................alpha=2.5, fit_prior=False; total time=   0.0s\n",
      "[CV] END .........................alpha=2.5, fit_prior=False; total time=   0.0s\n",
      "[CV] END .........................alpha=2.5, fit_prior=False; total time=   0.0s\n",
      "[CV] END .........................alpha=2.5, fit_prior=False; total time=   0.0s\n",
      "[CV] END .........................alpha=2.5, fit_prior=False; total time=   0.0s\n",
      "[CV] END ........................alpha=26.25, fit_prior=True; total time=   0.0s\n",
      "[CV] END ........................alpha=26.25, fit_prior=True; total time=   0.0s\n",
      "[CV] END ........................alpha=26.25, fit_prior=True; total time=   0.0s\n",
      "[CV] END ........................alpha=26.25, fit_prior=True; total time=   0.0s\n",
      "[CV] END ........................alpha=26.25, fit_prior=True; total time=   0.0s\n",
      "[CV] END ........................alpha=26.25, fit_prior=True; total time=   0.0s\n",
      "[CV] END ........................alpha=26.25, fit_prior=True; total time=   0.0s\n",
      "[CV] END .......................alpha=26.25, fit_prior=False; total time=   0.0s\n",
      "[CV] END .......................alpha=26.25, fit_prior=False; total time=   0.0s\n",
      "[CV] END .......................alpha=26.25, fit_prior=False; total time=   0.0s\n",
      "[CV] END .......................alpha=26.25, fit_prior=False; total time=   0.0s\n",
      "[CV] END .......................alpha=26.25, fit_prior=False; total time=   0.0s\n",
      "[CV] END .......................alpha=26.25, fit_prior=False; total time=   0.0s\n",
      "[CV] END .......................alpha=26.25, fit_prior=False; total time=   0.0s\n",
      "[CV] END .........................alpha=12.5, fit_prior=True; total time=   0.0s\n",
      "[CV] END .........................alpha=12.5, fit_prior=True; total time=   0.0s\n",
      "[CV] END .........................alpha=12.5, fit_prior=True; total time=   0.0s\n",
      "[CV] END .........................alpha=12.5, fit_prior=True; total time=   0.0s\n",
      "[CV] END .........................alpha=12.5, fit_prior=True; total time=   0.0s\n",
      "[CV] END .........................alpha=12.5, fit_prior=True; total time=   0.0s\n",
      "[CV] END .........................alpha=12.5, fit_prior=True; total time=   0.0s\n"
     ]
    },
    {
     "name": "stdout",
     "output_type": "stream",
     "text": [
      "[CV] END ........................alpha=12.5, fit_prior=False; total time=   0.0s\n",
      "[CV] END ........................alpha=12.5, fit_prior=False; total time=   0.0s\n",
      "[CV] END ........................alpha=12.5, fit_prior=False; total time=   0.0s\n",
      "[CV] END ........................alpha=12.5, fit_prior=False; total time=   0.0s\n",
      "[CV] END ........................alpha=12.5, fit_prior=False; total time=   0.0s\n",
      "[CV] END ........................alpha=12.5, fit_prior=False; total time=   0.0s\n",
      "[CV] END ........................alpha=12.5, fit_prior=False; total time=   0.0s\n",
      "[CV] END .........................alpha=25.4, fit_prior=True; total time=   0.0s\n",
      "[CV] END .........................alpha=25.4, fit_prior=True; total time=   0.0s\n",
      "[CV] END .........................alpha=25.4, fit_prior=True; total time=   0.0s\n",
      "[CV] END .........................alpha=25.4, fit_prior=True; total time=   0.0s\n",
      "[CV] END .........................alpha=25.4, fit_prior=True; total time=   0.0s\n",
      "[CV] END .........................alpha=25.4, fit_prior=True; total time=   0.0s\n",
      "[CV] END .........................alpha=25.4, fit_prior=True; total time=   0.0s\n",
      "[CV] END ........................alpha=25.4, fit_prior=False; total time=   0.0s\n",
      "[CV] END ........................alpha=25.4, fit_prior=False; total time=   0.0s\n",
      "[CV] END ........................alpha=25.4, fit_prior=False; total time=   0.0s\n",
      "[CV] END ........................alpha=25.4, fit_prior=False; total time=   0.0s\n",
      "[CV] END ........................alpha=25.4, fit_prior=False; total time=   0.0s\n",
      "[CV] END ........................alpha=25.4, fit_prior=False; total time=   0.0s\n",
      "[CV] END ........................alpha=25.4, fit_prior=False; total time=   0.0s\n",
      "[CV] END ........................alpha=11.99, fit_prior=True; total time=   0.0s\n",
      "[CV] END ........................alpha=11.99, fit_prior=True; total time=   0.0s\n",
      "[CV] END ........................alpha=11.99, fit_prior=True; total time=   0.0s\n",
      "[CV] END ........................alpha=11.99, fit_prior=True; total time=   0.0s\n",
      "[CV] END ........................alpha=11.99, fit_prior=True; total time=   0.0s\n",
      "[CV] END ........................alpha=11.99, fit_prior=True; total time=   0.0s\n",
      "[CV] END ........................alpha=11.99, fit_prior=True; total time=   0.0s\n",
      "[CV] END .......................alpha=11.99, fit_prior=False; total time=   0.0s\n",
      "[CV] END .......................alpha=11.99, fit_prior=False; total time=   0.0s\n",
      "[CV] END .......................alpha=11.99, fit_prior=False; total time=   0.0s\n",
      "[CV] END .......................alpha=11.99, fit_prior=False; total time=   0.0s\n",
      "[CV] END .......................alpha=11.99, fit_prior=False; total time=   0.0s\n",
      "[CV] END .......................alpha=11.99, fit_prior=False; total time=   0.0s\n",
      "[CV] END .......................alpha=11.99, fit_prior=False; total time=   0.0s\n",
      "[CV] END .........................alpha=9.25, fit_prior=True; total time=   0.0s\n",
      "[CV] END .........................alpha=9.25, fit_prior=True; total time=   0.0s\n",
      "[CV] END .........................alpha=9.25, fit_prior=True; total time=   0.0s\n",
      "[CV] END .........................alpha=9.25, fit_prior=True; total time=   0.0s\n",
      "[CV] END .........................alpha=9.25, fit_prior=True; total time=   0.0s\n",
      "[CV] END .........................alpha=9.25, fit_prior=True; total time=   0.0s\n",
      "[CV] END .........................alpha=9.25, fit_prior=True; total time=   0.0s\n",
      "[CV] END ........................alpha=9.25, fit_prior=False; total time=   0.0s\n",
      "[CV] END ........................alpha=9.25, fit_prior=False; total time=   0.0s\n",
      "[CV] END ........................alpha=9.25, fit_prior=False; total time=   0.0s\n",
      "[CV] END ........................alpha=9.25, fit_prior=False; total time=   0.0s\n",
      "[CV] END ........................alpha=9.25, fit_prior=False; total time=   0.0s\n",
      "[CV] END ........................alpha=9.25, fit_prior=False; total time=   0.0s\n",
      "[CV] END ........................alpha=9.25, fit_prior=False; total time=   0.0s\n",
      "[CV] END .........................alpha=3.66, fit_prior=True; total time=   0.0s\n",
      "[CV] END .........................alpha=3.66, fit_prior=True; total time=   0.0s\n",
      "[CV] END .........................alpha=3.66, fit_prior=True; total time=   0.0s\n",
      "[CV] END .........................alpha=3.66, fit_prior=True; total time=   0.0s\n",
      "[CV] END .........................alpha=3.66, fit_prior=True; total time=   0.0s\n",
      "[CV] END .........................alpha=3.66, fit_prior=True; total time=   0.0s\n",
      "[CV] END .........................alpha=3.66, fit_prior=True; total time=   0.0s\n",
      "[CV] END ........................alpha=3.66, fit_prior=False; total time=   0.0s\n",
      "[CV] END ........................alpha=3.66, fit_prior=False; total time=   0.0s\n",
      "[CV] END ........................alpha=3.66, fit_prior=False; total time=   0.0s\n",
      "[CV] END ........................alpha=3.66, fit_prior=False; total time=   0.0s\n",
      "[CV] END ........................alpha=3.66, fit_prior=False; total time=   0.0s\n",
      "[CV] END ........................alpha=3.66, fit_prior=False; total time=   0.0s\n",
      "[CV] END ........................alpha=3.66, fit_prior=False; total time=   0.0s\n",
      "[CV] END .........................alpha=3.87, fit_prior=True; total time=   0.0s\n",
      "[CV] END .........................alpha=3.87, fit_prior=True; total time=   0.0s\n",
      "[CV] END .........................alpha=3.87, fit_prior=True; total time=   0.0s\n",
      "[CV] END .........................alpha=3.87, fit_prior=True; total time=   0.0s\n",
      "[CV] END .........................alpha=3.87, fit_prior=True; total time=   0.0s\n",
      "[CV] END .........................alpha=3.87, fit_prior=True; total time=   0.0s\n",
      "[CV] END .........................alpha=3.87, fit_prior=True; total time=   0.0s\n",
      "[CV] END ........................alpha=3.87, fit_prior=False; total time=   0.0s\n",
      "[CV] END ........................alpha=3.87, fit_prior=False; total time=   0.0s\n",
      "[CV] END ........................alpha=3.87, fit_prior=False; total time=   0.0s\n",
      "[CV] END ........................alpha=3.87, fit_prior=False; total time=   0.0s\n",
      "[CV] END ........................alpha=3.87, fit_prior=False; total time=   0.0s\n",
      "[CV] END ........................alpha=3.87, fit_prior=False; total time=   0.0s\n",
      "[CV] END ........................alpha=3.87, fit_prior=False; total time=   0.0s\n",
      "[CV] END .........................alpha=2.67, fit_prior=True; total time=   0.0s\n",
      "[CV] END .........................alpha=2.67, fit_prior=True; total time=   0.0s\n",
      "[CV] END .........................alpha=2.67, fit_prior=True; total time=   0.0s\n",
      "[CV] END .........................alpha=2.67, fit_prior=True; total time=   0.0s\n",
      "[CV] END .........................alpha=2.67, fit_prior=True; total time=   0.0s\n",
      "[CV] END .........................alpha=2.67, fit_prior=True; total time=   0.0s\n",
      "[CV] END .........................alpha=2.67, fit_prior=True; total time=   0.0s\n",
      "[CV] END ........................alpha=2.67, fit_prior=False; total time=   0.0s\n",
      "[CV] END ........................alpha=2.67, fit_prior=False; total time=   0.0s\n",
      "[CV] END ........................alpha=2.67, fit_prior=False; total time=   0.0s\n",
      "[CV] END ........................alpha=2.67, fit_prior=False; total time=   0.0s\n",
      "[CV] END ........................alpha=2.67, fit_prior=False; total time=   0.0s\n",
      "[CV] END ........................alpha=2.67, fit_prior=False; total time=   0.0s\n",
      "[CV] END ........................alpha=2.67, fit_prior=False; total time=   0.0s\n",
      "[CV] END ........................alpha=66.25, fit_prior=True; total time=   0.0s\n",
      "[CV] END ........................alpha=66.25, fit_prior=True; total time=   0.0s\n",
      "[CV] END ........................alpha=66.25, fit_prior=True; total time=   0.0s\n",
      "[CV] END ........................alpha=66.25, fit_prior=True; total time=   0.0s\n",
      "[CV] END ........................alpha=66.25, fit_prior=True; total time=   0.0s\n",
      "[CV] END ........................alpha=66.25, fit_prior=True; total time=   0.0s\n",
      "[CV] END ........................alpha=66.25, fit_prior=True; total time=   0.0s\n",
      "[CV] END .......................alpha=66.25, fit_prior=False; total time=   0.0s\n",
      "[CV] END .......................alpha=66.25, fit_prior=False; total time=   0.0s\n",
      "[CV] END .......................alpha=66.25, fit_prior=False; total time=   0.0s\n",
      "[CV] END .......................alpha=66.25, fit_prior=False; total time=   0.0s\n"
     ]
    },
    {
     "name": "stdout",
     "output_type": "stream",
     "text": [
      "[CV] END .......................alpha=66.25, fit_prior=False; total time=   0.0s\n",
      "[CV] END .......................alpha=66.25, fit_prior=False; total time=   0.0s\n",
      "[CV] END .......................alpha=66.25, fit_prior=False; total time=   0.0s\n",
      "[CV] END ........................alpha=99.21, fit_prior=True; total time=   0.0s\n",
      "[CV] END ........................alpha=99.21, fit_prior=True; total time=   0.0s\n",
      "[CV] END ........................alpha=99.21, fit_prior=True; total time=   0.0s\n",
      "[CV] END ........................alpha=99.21, fit_prior=True; total time=   0.0s\n",
      "[CV] END ........................alpha=99.21, fit_prior=True; total time=   0.0s\n",
      "[CV] END ........................alpha=99.21, fit_prior=True; total time=   0.0s\n",
      "[CV] END ........................alpha=99.21, fit_prior=True; total time=   0.0s\n",
      "[CV] END .......................alpha=99.21, fit_prior=False; total time=   0.0s\n",
      "[CV] END .......................alpha=99.21, fit_prior=False; total time=   0.0s\n",
      "[CV] END .......................alpha=99.21, fit_prior=False; total time=   0.0s\n",
      "[CV] END .......................alpha=99.21, fit_prior=False; total time=   0.0s\n",
      "[CV] END .......................alpha=99.21, fit_prior=False; total time=   0.0s\n",
      "[CV] END .......................alpha=99.21, fit_prior=False; total time=   0.0s\n",
      "[CV] END .......................alpha=99.21, fit_prior=False; total time=   0.0s\n",
      "[CV] END ........................alpha=21.21, fit_prior=True; total time=   0.0s\n",
      "[CV] END ........................alpha=21.21, fit_prior=True; total time=   0.0s\n",
      "[CV] END ........................alpha=21.21, fit_prior=True; total time=   0.0s\n",
      "[CV] END ........................alpha=21.21, fit_prior=True; total time=   0.0s\n",
      "[CV] END ........................alpha=21.21, fit_prior=True; total time=   0.0s\n",
      "[CV] END ........................alpha=21.21, fit_prior=True; total time=   0.0s\n",
      "[CV] END ........................alpha=21.21, fit_prior=True; total time=   0.0s\n",
      "[CV] END .......................alpha=21.21, fit_prior=False; total time=   0.0s\n",
      "[CV] END .......................alpha=21.21, fit_prior=False; total time=   0.0s\n",
      "[CV] END .......................alpha=21.21, fit_prior=False; total time=   0.0s\n",
      "[CV] END .......................alpha=21.21, fit_prior=False; total time=   0.0s\n",
      "[CV] END .......................alpha=21.21, fit_prior=False; total time=   0.0s\n",
      "[CV] END .......................alpha=21.21, fit_prior=False; total time=   0.0s\n",
      "[CV] END .......................alpha=21.21, fit_prior=False; total time=   0.0s\n",
      "[CV] END ..........................alpha=0.1, fit_prior=True; total time=   0.0s\n",
      "[CV] END ..........................alpha=0.1, fit_prior=True; total time=   0.0s\n",
      "[CV] END ..........................alpha=0.1, fit_prior=True; total time=   0.0s\n",
      "[CV] END ..........................alpha=0.1, fit_prior=True; total time=   0.0s\n",
      "[CV] END ..........................alpha=0.1, fit_prior=True; total time=   0.0s\n",
      "[CV] END ..........................alpha=0.1, fit_prior=True; total time=   0.0s\n",
      "[CV] END ..........................alpha=0.1, fit_prior=True; total time=   0.0s\n",
      "[CV] END .........................alpha=0.1, fit_prior=False; total time=   0.0s\n",
      "[CV] END .........................alpha=0.1, fit_prior=False; total time=   0.0s\n",
      "[CV] END .........................alpha=0.1, fit_prior=False; total time=   0.0s\n",
      "[CV] END .........................alpha=0.1, fit_prior=False; total time=   0.0s\n",
      "[CV] END .........................alpha=0.1, fit_prior=False; total time=   0.0s\n",
      "[CV] END .........................alpha=0.1, fit_prior=False; total time=   0.0s\n",
      "[CV] END .........................alpha=0.1, fit_prior=False; total time=   0.0s\n",
      "[CV] END ..........................alpha=0.2, fit_prior=True; total time=   0.0s\n",
      "[CV] END ..........................alpha=0.2, fit_prior=True; total time=   0.0s\n",
      "[CV] END ..........................alpha=0.2, fit_prior=True; total time=   0.0s\n",
      "[CV] END ..........................alpha=0.2, fit_prior=True; total time=   0.0s\n",
      "[CV] END ..........................alpha=0.2, fit_prior=True; total time=   0.0s\n",
      "[CV] END ..........................alpha=0.2, fit_prior=True; total time=   0.0s\n",
      "[CV] END ..........................alpha=0.2, fit_prior=True; total time=   0.0s\n",
      "[CV] END .........................alpha=0.2, fit_prior=False; total time=   0.0s\n",
      "[CV] END .........................alpha=0.2, fit_prior=False; total time=   0.0s\n",
      "[CV] END .........................alpha=0.2, fit_prior=False; total time=   0.0s\n",
      "[CV] END .........................alpha=0.2, fit_prior=False; total time=   0.0s\n",
      "[CV] END .........................alpha=0.2, fit_prior=False; total time=   0.0s\n",
      "[CV] END .........................alpha=0.2, fit_prior=False; total time=   0.0s\n",
      "[CV] END .........................alpha=0.2, fit_prior=False; total time=   0.0s\n",
      "[CV] END ..........................alpha=0.3, fit_prior=True; total time=   0.0s\n",
      "[CV] END ..........................alpha=0.3, fit_prior=True; total time=   0.0s\n",
      "[CV] END ..........................alpha=0.3, fit_prior=True; total time=   0.0s\n",
      "[CV] END ..........................alpha=0.3, fit_prior=True; total time=   0.0s\n",
      "[CV] END ..........................alpha=0.3, fit_prior=True; total time=   0.0s\n",
      "[CV] END ..........................alpha=0.3, fit_prior=True; total time=   0.0s\n",
      "[CV] END ..........................alpha=0.3, fit_prior=True; total time=   0.0s\n",
      "[CV] END .........................alpha=0.3, fit_prior=False; total time=   0.0s\n",
      "[CV] END .........................alpha=0.3, fit_prior=False; total time=   0.0s\n",
      "[CV] END .........................alpha=0.3, fit_prior=False; total time=   0.0s\n",
      "[CV] END .........................alpha=0.3, fit_prior=False; total time=   0.0s\n",
      "[CV] END .........................alpha=0.3, fit_prior=False; total time=   0.0s\n",
      "[CV] END .........................alpha=0.3, fit_prior=False; total time=   0.0s\n",
      "[CV] END .........................alpha=0.3, fit_prior=False; total time=   0.0s\n",
      "[CV] END ..........................alpha=0.4, fit_prior=True; total time=   0.0s\n",
      "[CV] END ..........................alpha=0.4, fit_prior=True; total time=   0.0s\n",
      "[CV] END ..........................alpha=0.4, fit_prior=True; total time=   0.0s\n",
      "[CV] END ..........................alpha=0.4, fit_prior=True; total time=   0.0s\n",
      "[CV] END ..........................alpha=0.4, fit_prior=True; total time=   0.0s\n",
      "[CV] END ..........................alpha=0.4, fit_prior=True; total time=   0.0s\n",
      "[CV] END ..........................alpha=0.4, fit_prior=True; total time=   0.0s\n",
      "[CV] END .........................alpha=0.4, fit_prior=False; total time=   0.0s\n",
      "[CV] END .........................alpha=0.4, fit_prior=False; total time=   0.0s\n",
      "[CV] END .........................alpha=0.4, fit_prior=False; total time=   0.0s\n",
      "[CV] END .........................alpha=0.4, fit_prior=False; total time=   0.0s\n",
      "[CV] END .........................alpha=0.4, fit_prior=False; total time=   0.0s\n",
      "[CV] END .........................alpha=0.4, fit_prior=False; total time=   0.0s\n",
      "[CV] END .........................alpha=0.4, fit_prior=False; total time=   0.0s\n",
      "[CV] END ..........................alpha=0.5, fit_prior=True; total time=   0.0s\n",
      "[CV] END ..........................alpha=0.5, fit_prior=True; total time=   0.0s\n",
      "[CV] END ..........................alpha=0.5, fit_prior=True; total time=   0.0s\n",
      "[CV] END ..........................alpha=0.5, fit_prior=True; total time=   0.0s\n",
      "[CV] END ..........................alpha=0.5, fit_prior=True; total time=   0.0s\n",
      "[CV] END ..........................alpha=0.5, fit_prior=True; total time=   0.0s\n",
      "[CV] END ..........................alpha=0.5, fit_prior=True; total time=   0.0s\n",
      "[CV] END .........................alpha=0.5, fit_prior=False; total time=   0.0s\n",
      "[CV] END .........................alpha=0.5, fit_prior=False; total time=   0.0s\n",
      "[CV] END .........................alpha=0.5, fit_prior=False; total time=   0.0s\n",
      "[CV] END .........................alpha=0.5, fit_prior=False; total time=   0.0s\n",
      "[CV] END .........................alpha=0.5, fit_prior=False; total time=   0.0s\n",
      "[CV] END .........................alpha=0.5, fit_prior=False; total time=   0.0s\n",
      "[CV] END .........................alpha=0.5, fit_prior=False; total time=   0.0s\n",
      "[CV] END ..........................alpha=0.6, fit_prior=True; total time=   0.0s\n",
      "[CV] END ..........................alpha=0.6, fit_prior=True; total time=   0.0s\n",
      "[CV] END ..........................alpha=0.6, fit_prior=True; total time=   0.0s\n",
      "[CV] END ..........................alpha=0.6, fit_prior=True; total time=   0.0s\n",
      "[CV] END ..........................alpha=0.6, fit_prior=True; total time=   0.0s\n"
     ]
    },
    {
     "name": "stdout",
     "output_type": "stream",
     "text": [
      "[CV] END ..........................alpha=0.6, fit_prior=True; total time=   0.0s\n",
      "[CV] END ..........................alpha=0.6, fit_prior=True; total time=   0.0s\n",
      "[CV] END .........................alpha=0.6, fit_prior=False; total time=   0.0s\n",
      "[CV] END .........................alpha=0.6, fit_prior=False; total time=   0.0s\n",
      "[CV] END .........................alpha=0.6, fit_prior=False; total time=   0.0s\n",
      "[CV] END .........................alpha=0.6, fit_prior=False; total time=   0.0s\n",
      "[CV] END .........................alpha=0.6, fit_prior=False; total time=   0.0s\n",
      "[CV] END .........................alpha=0.6, fit_prior=False; total time=   0.0s\n",
      "[CV] END .........................alpha=0.6, fit_prior=False; total time=   0.0s\n",
      "[CV] END ..........................alpha=0.7, fit_prior=True; total time=   0.0s\n",
      "[CV] END ..........................alpha=0.7, fit_prior=True; total time=   0.0s\n",
      "[CV] END ..........................alpha=0.7, fit_prior=True; total time=   0.0s\n",
      "[CV] END ..........................alpha=0.7, fit_prior=True; total time=   0.0s\n",
      "[CV] END ..........................alpha=0.7, fit_prior=True; total time=   0.0s\n",
      "[CV] END ..........................alpha=0.7, fit_prior=True; total time=   0.0s\n",
      "[CV] END ..........................alpha=0.7, fit_prior=True; total time=   0.0s\n",
      "[CV] END .........................alpha=0.7, fit_prior=False; total time=   0.0s\n",
      "[CV] END .........................alpha=0.7, fit_prior=False; total time=   0.0s\n",
      "[CV] END .........................alpha=0.7, fit_prior=False; total time=   0.0s\n",
      "[CV] END .........................alpha=0.7, fit_prior=False; total time=   0.0s\n",
      "[CV] END .........................alpha=0.7, fit_prior=False; total time=   0.0s\n",
      "[CV] END .........................alpha=0.7, fit_prior=False; total time=   0.0s\n",
      "[CV] END .........................alpha=0.7, fit_prior=False; total time=   0.0s\n",
      "[CV] END ..........................alpha=0.8, fit_prior=True; total time=   0.0s\n",
      "[CV] END ..........................alpha=0.8, fit_prior=True; total time=   0.0s\n",
      "[CV] END ..........................alpha=0.8, fit_prior=True; total time=   0.0s\n",
      "[CV] END ..........................alpha=0.8, fit_prior=True; total time=   0.0s\n",
      "[CV] END ..........................alpha=0.8, fit_prior=True; total time=   0.0s\n",
      "[CV] END ..........................alpha=0.8, fit_prior=True; total time=   0.0s\n",
      "[CV] END ..........................alpha=0.8, fit_prior=True; total time=   0.0s\n",
      "[CV] END .........................alpha=0.8, fit_prior=False; total time=   0.0s\n",
      "[CV] END .........................alpha=0.8, fit_prior=False; total time=   0.0s\n",
      "[CV] END .........................alpha=0.8, fit_prior=False; total time=   0.0s\n",
      "[CV] END .........................alpha=0.8, fit_prior=False; total time=   0.0s\n",
      "[CV] END .........................alpha=0.8, fit_prior=False; total time=   0.0s\n",
      "[CV] END .........................alpha=0.8, fit_prior=False; total time=   0.0s\n",
      "[CV] END .........................alpha=0.8, fit_prior=False; total time=   0.0s\n",
      "[CV] END ..........................alpha=0.9, fit_prior=True; total time=   0.0s\n",
      "[CV] END ..........................alpha=0.9, fit_prior=True; total time=   0.0s\n",
      "[CV] END ..........................alpha=0.9, fit_prior=True; total time=   0.0s\n",
      "[CV] END ..........................alpha=0.9, fit_prior=True; total time=   0.0s\n",
      "[CV] END ..........................alpha=0.9, fit_prior=True; total time=   0.0s\n",
      "[CV] END ..........................alpha=0.9, fit_prior=True; total time=   0.0s\n",
      "[CV] END ..........................alpha=0.9, fit_prior=True; total time=   0.0s\n",
      "[CV] END .........................alpha=0.9, fit_prior=False; total time=   0.0s\n",
      "[CV] END .........................alpha=0.9, fit_prior=False; total time=   0.0s\n",
      "[CV] END .........................alpha=0.9, fit_prior=False; total time=   0.0s\n",
      "[CV] END .........................alpha=0.9, fit_prior=False; total time=   0.0s\n",
      "[CV] END .........................alpha=0.9, fit_prior=False; total time=   0.0s\n",
      "[CV] END .........................alpha=0.9, fit_prior=False; total time=   0.0s\n",
      "[CV] END .........................alpha=0.9, fit_prior=False; total time=   0.0s\n",
      "[CV] END ..........................alpha=1.0, fit_prior=True; total time=   0.0s\n",
      "[CV] END ..........................alpha=1.0, fit_prior=True; total time=   0.0s\n",
      "[CV] END ..........................alpha=1.0, fit_prior=True; total time=   0.0s\n",
      "[CV] END ..........................alpha=1.0, fit_prior=True; total time=   0.0s\n",
      "[CV] END ..........................alpha=1.0, fit_prior=True; total time=   0.0s\n",
      "[CV] END ..........................alpha=1.0, fit_prior=True; total time=   0.0s\n",
      "[CV] END ..........................alpha=1.0, fit_prior=True; total time=   0.0s\n",
      "[CV] END .........................alpha=1.0, fit_prior=False; total time=   0.0s\n",
      "[CV] END .........................alpha=1.0, fit_prior=False; total time=   0.0s\n",
      "[CV] END .........................alpha=1.0, fit_prior=False; total time=   0.0s\n",
      "[CV] END .........................alpha=1.0, fit_prior=False; total time=   0.0s\n",
      "[CV] END .........................alpha=1.0, fit_prior=False; total time=   0.0s\n",
      "[CV] END .........................alpha=1.0, fit_prior=False; total time=   0.0s\n",
      "[CV] END .........................alpha=1.0, fit_prior=False; total time=   0.0s\n",
      "[CV] END ..........................alpha=1.2, fit_prior=True; total time=   0.0s\n",
      "[CV] END ..........................alpha=1.2, fit_prior=True; total time=   0.0s\n",
      "[CV] END ..........................alpha=1.2, fit_prior=True; total time=   0.0s\n",
      "[CV] END ..........................alpha=1.2, fit_prior=True; total time=   0.0s\n",
      "[CV] END ..........................alpha=1.2, fit_prior=True; total time=   0.0s\n",
      "[CV] END ..........................alpha=1.2, fit_prior=True; total time=   0.0s\n",
      "[CV] END ..........................alpha=1.2, fit_prior=True; total time=   0.0s\n",
      "[CV] END .........................alpha=1.2, fit_prior=False; total time=   0.0s\n",
      "[CV] END .........................alpha=1.2, fit_prior=False; total time=   0.0s\n",
      "[CV] END .........................alpha=1.2, fit_prior=False; total time=   0.0s\n",
      "[CV] END .........................alpha=1.2, fit_prior=False; total time=   0.0s\n",
      "[CV] END .........................alpha=1.2, fit_prior=False; total time=   0.0s\n",
      "[CV] END .........................alpha=1.2, fit_prior=False; total time=   0.0s\n",
      "[CV] END .........................alpha=1.2, fit_prior=False; total time=   0.0s\n",
      "[CV] END ..........................alpha=1.5, fit_prior=True; total time=   0.0s\n",
      "[CV] END ..........................alpha=1.5, fit_prior=True; total time=   0.0s\n",
      "[CV] END ..........................alpha=1.5, fit_prior=True; total time=   0.0s\n",
      "[CV] END ..........................alpha=1.5, fit_prior=True; total time=   0.0s\n",
      "[CV] END ..........................alpha=1.5, fit_prior=True; total time=   0.0s\n",
      "[CV] END ..........................alpha=1.5, fit_prior=True; total time=   0.0s\n",
      "[CV] END ..........................alpha=1.5, fit_prior=True; total time=   0.0s\n",
      "[CV] END .........................alpha=1.5, fit_prior=False; total time=   0.0s\n",
      "[CV] END .........................alpha=1.5, fit_prior=False; total time=   0.0s\n",
      "[CV] END .........................alpha=1.5, fit_prior=False; total time=   0.0s\n",
      "[CV] END .........................alpha=1.5, fit_prior=False; total time=   0.0s\n",
      "[CV] END .........................alpha=1.5, fit_prior=False; total time=   0.0s\n",
      "[CV] END .........................alpha=1.5, fit_prior=False; total time=   0.0s\n",
      "[CV] END .........................alpha=1.5, fit_prior=False; total time=   0.0s\n",
      "[CV] END ..........................alpha=1.8, fit_prior=True; total time=   0.0s\n",
      "[CV] END ..........................alpha=1.8, fit_prior=True; total time=   0.0s\n",
      "[CV] END ..........................alpha=1.8, fit_prior=True; total time=   0.0s\n",
      "[CV] END ..........................alpha=1.8, fit_prior=True; total time=   0.0s\n",
      "[CV] END ..........................alpha=1.8, fit_prior=True; total time=   0.0s\n",
      "[CV] END ..........................alpha=1.8, fit_prior=True; total time=   0.0s\n",
      "[CV] END ..........................alpha=1.8, fit_prior=True; total time=   0.0s\n",
      "[CV] END .........................alpha=1.8, fit_prior=False; total time=   0.0s\n",
      "[CV] END .........................alpha=1.8, fit_prior=False; total time=   0.0s\n",
      "[CV] END .........................alpha=1.8, fit_prior=False; total time=   0.0s\n",
      "[CV] END .........................alpha=1.8, fit_prior=False; total time=   0.0s\n",
      "[CV] END .........................alpha=1.8, fit_prior=False; total time=   0.0s\n",
      "[CV] END .........................alpha=1.8, fit_prior=False; total time=   0.0s\n"
     ]
    },
    {
     "name": "stdout",
     "output_type": "stream",
     "text": [
      "[CV] END .........................alpha=1.8, fit_prior=False; total time=   0.0s\n",
      "[CV] END ..........................alpha=2.0, fit_prior=True; total time=   0.0s\n",
      "[CV] END ..........................alpha=2.0, fit_prior=True; total time=   0.0s\n",
      "[CV] END ..........................alpha=2.0, fit_prior=True; total time=   0.0s\n",
      "[CV] END ..........................alpha=2.0, fit_prior=True; total time=   0.0s\n",
      "[CV] END ..........................alpha=2.0, fit_prior=True; total time=   0.0s\n",
      "[CV] END ..........................alpha=2.0, fit_prior=True; total time=   0.0s\n",
      "[CV] END ..........................alpha=2.0, fit_prior=True; total time=   0.0s\n",
      "[CV] END .........................alpha=2.0, fit_prior=False; total time=   0.0s\n",
      "[CV] END .........................alpha=2.0, fit_prior=False; total time=   0.0s\n",
      "[CV] END .........................alpha=2.0, fit_prior=False; total time=   0.0s\n",
      "[CV] END .........................alpha=2.0, fit_prior=False; total time=   0.0s\n",
      "[CV] END .........................alpha=2.0, fit_prior=False; total time=   0.0s\n",
      "[CV] END .........................alpha=2.0, fit_prior=False; total time=   0.0s\n",
      "[CV] END .........................alpha=2.0, fit_prior=False; total time=   0.0s\n",
      "[CV] END .........................alpha=12.0, fit_prior=True; total time=   0.0s\n",
      "[CV] END .........................alpha=12.0, fit_prior=True; total time=   0.0s\n",
      "[CV] END .........................alpha=12.0, fit_prior=True; total time=   0.0s\n",
      "[CV] END .........................alpha=12.0, fit_prior=True; total time=   0.0s\n",
      "[CV] END .........................alpha=12.0, fit_prior=True; total time=   0.0s\n",
      "[CV] END .........................alpha=12.0, fit_prior=True; total time=   0.0s\n",
      "[CV] END .........................alpha=12.0, fit_prior=True; total time=   0.0s\n",
      "[CV] END ........................alpha=12.0, fit_prior=False; total time=   0.0s\n",
      "[CV] END ........................alpha=12.0, fit_prior=False; total time=   0.0s\n",
      "[CV] END ........................alpha=12.0, fit_prior=False; total time=   0.0s\n",
      "[CV] END ........................alpha=12.0, fit_prior=False; total time=   0.0s\n",
      "[CV] END ........................alpha=12.0, fit_prior=False; total time=   0.0s\n",
      "[CV] END ........................alpha=12.0, fit_prior=False; total time=   0.0s\n",
      "[CV] END ........................alpha=12.0, fit_prior=False; total time=   0.0s\n",
      "[CV] END .........................alpha=15.0, fit_prior=True; total time=   0.0s\n",
      "[CV] END .........................alpha=15.0, fit_prior=True; total time=   0.0s\n",
      "[CV] END .........................alpha=15.0, fit_prior=True; total time=   0.0s\n",
      "[CV] END .........................alpha=15.0, fit_prior=True; total time=   0.0s\n",
      "[CV] END .........................alpha=15.0, fit_prior=True; total time=   0.0s\n",
      "[CV] END .........................alpha=15.0, fit_prior=True; total time=   0.0s\n",
      "[CV] END .........................alpha=15.0, fit_prior=True; total time=   0.0s\n",
      "[CV] END ........................alpha=15.0, fit_prior=False; total time=   0.0s\n",
      "[CV] END ........................alpha=15.0, fit_prior=False; total time=   0.0s\n",
      "[CV] END ........................alpha=15.0, fit_prior=False; total time=   0.0s\n",
      "[CV] END ........................alpha=15.0, fit_prior=False; total time=   0.0s\n",
      "[CV] END ........................alpha=15.0, fit_prior=False; total time=   0.0s\n",
      "[CV] END ........................alpha=15.0, fit_prior=False; total time=   0.0s\n",
      "[CV] END ........................alpha=15.0, fit_prior=False; total time=   0.0s\n",
      "[CV] END .........................alpha=18.0, fit_prior=True; total time=   0.0s\n",
      "[CV] END .........................alpha=18.0, fit_prior=True; total time=   0.0s\n",
      "[CV] END .........................alpha=18.0, fit_prior=True; total time=   0.0s\n",
      "[CV] END .........................alpha=18.0, fit_prior=True; total time=   0.0s\n",
      "[CV] END .........................alpha=18.0, fit_prior=True; total time=   0.0s\n",
      "[CV] END .........................alpha=18.0, fit_prior=True; total time=   0.0s\n",
      "[CV] END .........................alpha=18.0, fit_prior=True; total time=   0.0s\n",
      "[CV] END ........................alpha=18.0, fit_prior=False; total time=   0.0s\n",
      "[CV] END ........................alpha=18.0, fit_prior=False; total time=   0.0s\n",
      "[CV] END ........................alpha=18.0, fit_prior=False; total time=   0.0s\n",
      "[CV] END ........................alpha=18.0, fit_prior=False; total time=   0.0s\n",
      "[CV] END ........................alpha=18.0, fit_prior=False; total time=   0.0s\n",
      "[CV] END ........................alpha=18.0, fit_prior=False; total time=   0.0s\n",
      "[CV] END ........................alpha=18.0, fit_prior=False; total time=   0.0s\n",
      "[CV] END .........................alpha=20.0, fit_prior=True; total time=   0.0s\n",
      "[CV] END .........................alpha=20.0, fit_prior=True; total time=   0.0s\n",
      "[CV] END .........................alpha=20.0, fit_prior=True; total time=   0.0s\n",
      "[CV] END .........................alpha=20.0, fit_prior=True; total time=   0.0s\n",
      "[CV] END .........................alpha=20.0, fit_prior=True; total time=   0.0s\n",
      "[CV] END .........................alpha=20.0, fit_prior=True; total time=   0.0s\n",
      "[CV] END .........................alpha=20.0, fit_prior=True; total time=   0.0s\n",
      "[CV] END ........................alpha=20.0, fit_prior=False; total time=   0.0s\n",
      "[CV] END ........................alpha=20.0, fit_prior=False; total time=   0.0s\n",
      "[CV] END ........................alpha=20.0, fit_prior=False; total time=   0.0s\n",
      "[CV] END ........................alpha=20.0, fit_prior=False; total time=   0.0s\n",
      "[CV] END ........................alpha=20.0, fit_prior=False; total time=   0.0s\n",
      "[CV] END ........................alpha=20.0, fit_prior=False; total time=   0.0s\n",
      "[CV] END ........................alpha=20.0, fit_prior=False; total time=   0.0s\n",
      "[CV] END .........................alpha=25.0, fit_prior=True; total time=   0.0s\n",
      "[CV] END .........................alpha=25.0, fit_prior=True; total time=   0.0s\n",
      "[CV] END .........................alpha=25.0, fit_prior=True; total time=   0.0s\n",
      "[CV] END .........................alpha=25.0, fit_prior=True; total time=   0.0s\n",
      "[CV] END .........................alpha=25.0, fit_prior=True; total time=   0.0s\n",
      "[CV] END .........................alpha=25.0, fit_prior=True; total time=   0.0s\n",
      "[CV] END .........................alpha=25.0, fit_prior=True; total time=   0.0s\n",
      "[CV] END ........................alpha=25.0, fit_prior=False; total time=   0.0s\n",
      "[CV] END ........................alpha=25.0, fit_prior=False; total time=   0.0s\n",
      "[CV] END ........................alpha=25.0, fit_prior=False; total time=   0.0s\n",
      "[CV] END ........................alpha=25.0, fit_prior=False; total time=   0.0s\n",
      "[CV] END ........................alpha=25.0, fit_prior=False; total time=   0.0s\n",
      "[CV] END ........................alpha=25.0, fit_prior=False; total time=   0.0s\n",
      "[CV] END ........................alpha=25.0, fit_prior=False; total time=   0.0s\n",
      "[CV] END .........................alpha=30.0, fit_prior=True; total time=   0.0s\n",
      "[CV] END .........................alpha=30.0, fit_prior=True; total time=   0.0s\n",
      "[CV] END .........................alpha=30.0, fit_prior=True; total time=   0.0s\n",
      "[CV] END .........................alpha=30.0, fit_prior=True; total time=   0.0s\n",
      "[CV] END .........................alpha=30.0, fit_prior=True; total time=   0.0s\n",
      "[CV] END .........................alpha=30.0, fit_prior=True; total time=   0.0s\n",
      "[CV] END .........................alpha=30.0, fit_prior=True; total time=   0.0s\n",
      "[CV] END ........................alpha=30.0, fit_prior=False; total time=   0.0s\n",
      "[CV] END ........................alpha=30.0, fit_prior=False; total time=   0.0s\n",
      "[CV] END ........................alpha=30.0, fit_prior=False; total time=   0.0s\n",
      "[CV] END ........................alpha=30.0, fit_prior=False; total time=   0.0s\n",
      "[CV] END ........................alpha=30.0, fit_prior=False; total time=   0.0s\n",
      "[CV] END ........................alpha=30.0, fit_prior=False; total time=   0.0s\n",
      "[CV] END ........................alpha=30.0, fit_prior=False; total time=   0.0s\n",
      "[CV] END .........................alpha=35.0, fit_prior=True; total time=   0.0s\n",
      "[CV] END .........................alpha=35.0, fit_prior=True; total time=   0.0s\n",
      "[CV] END .........................alpha=35.0, fit_prior=True; total time=   0.0s\n",
      "[CV] END .........................alpha=35.0, fit_prior=True; total time=   0.0s\n"
     ]
    },
    {
     "name": "stdout",
     "output_type": "stream",
     "text": [
      "[CV] END .........................alpha=35.0, fit_prior=True; total time=   0.0s\n",
      "[CV] END .........................alpha=35.0, fit_prior=True; total time=   0.0s\n",
      "[CV] END .........................alpha=35.0, fit_prior=True; total time=   0.0s\n",
      "[CV] END ........................alpha=35.0, fit_prior=False; total time=   0.0s\n",
      "[CV] END ........................alpha=35.0, fit_prior=False; total time=   0.0s\n",
      "[CV] END ........................alpha=35.0, fit_prior=False; total time=   0.0s\n",
      "[CV] END ........................alpha=35.0, fit_prior=False; total time=   0.0s\n",
      "[CV] END ........................alpha=35.0, fit_prior=False; total time=   0.0s\n",
      "[CV] END ........................alpha=35.0, fit_prior=False; total time=   0.0s\n",
      "[CV] END ........................alpha=35.0, fit_prior=False; total time=   0.0s\n",
      "[CV] END .........................alpha=40.0, fit_prior=True; total time=   0.0s\n",
      "[CV] END .........................alpha=40.0, fit_prior=True; total time=   0.0s\n",
      "[CV] END .........................alpha=40.0, fit_prior=True; total time=   0.0s\n",
      "[CV] END .........................alpha=40.0, fit_prior=True; total time=   0.0s\n",
      "[CV] END .........................alpha=40.0, fit_prior=True; total time=   0.0s\n",
      "[CV] END .........................alpha=40.0, fit_prior=True; total time=   0.0s\n",
      "[CV] END .........................alpha=40.0, fit_prior=True; total time=   0.0s\n",
      "[CV] END ........................alpha=40.0, fit_prior=False; total time=   0.0s\n",
      "[CV] END ........................alpha=40.0, fit_prior=False; total time=   0.0s\n",
      "[CV] END ........................alpha=40.0, fit_prior=False; total time=   0.0s\n",
      "[CV] END ........................alpha=40.0, fit_prior=False; total time=   0.0s\n",
      "[CV] END ........................alpha=40.0, fit_prior=False; total time=   0.0s\n",
      "[CV] END ........................alpha=40.0, fit_prior=False; total time=   0.0s\n",
      "[CV] END ........................alpha=40.0, fit_prior=False; total time=   0.0s\n",
      "[CV] END .........................alpha=45.0, fit_prior=True; total time=   0.0s\n",
      "[CV] END .........................alpha=45.0, fit_prior=True; total time=   0.0s\n",
      "[CV] END .........................alpha=45.0, fit_prior=True; total time=   0.0s\n",
      "[CV] END .........................alpha=45.0, fit_prior=True; total time=   0.0s\n",
      "[CV] END .........................alpha=45.0, fit_prior=True; total time=   0.0s\n",
      "[CV] END .........................alpha=45.0, fit_prior=True; total time=   0.0s\n",
      "[CV] END .........................alpha=45.0, fit_prior=True; total time=   0.0s\n",
      "[CV] END ........................alpha=45.0, fit_prior=False; total time=   0.0s\n",
      "[CV] END ........................alpha=45.0, fit_prior=False; total time=   0.0s\n",
      "[CV] END ........................alpha=45.0, fit_prior=False; total time=   0.0s\n",
      "[CV] END ........................alpha=45.0, fit_prior=False; total time=   0.0s\n",
      "[CV] END ........................alpha=45.0, fit_prior=False; total time=   0.0s\n",
      "[CV] END ........................alpha=45.0, fit_prior=False; total time=   0.0s\n",
      "[CV] END ........................alpha=45.0, fit_prior=False; total time=   0.0s\n",
      "[CV] END .........................alpha=50.0, fit_prior=True; total time=   0.0s\n",
      "[CV] END .........................alpha=50.0, fit_prior=True; total time=   0.0s\n",
      "[CV] END .........................alpha=50.0, fit_prior=True; total time=   0.0s\n",
      "[CV] END .........................alpha=50.0, fit_prior=True; total time=   0.0s\n",
      "[CV] END .........................alpha=50.0, fit_prior=True; total time=   0.0s\n",
      "[CV] END .........................alpha=50.0, fit_prior=True; total time=   0.0s\n",
      "[CV] END .........................alpha=50.0, fit_prior=True; total time=   0.0s\n",
      "[CV] END ........................alpha=50.0, fit_prior=False; total time=   0.0s\n",
      "[CV] END ........................alpha=50.0, fit_prior=False; total time=   0.0s\n",
      "[CV] END ........................alpha=50.0, fit_prior=False; total time=   0.0s\n",
      "[CV] END ........................alpha=50.0, fit_prior=False; total time=   0.0s\n",
      "[CV] END ........................alpha=50.0, fit_prior=False; total time=   0.0s\n",
      "[CV] END ........................alpha=50.0, fit_prior=False; total time=   0.0s\n",
      "[CV] END ........................alpha=50.0, fit_prior=False; total time=   0.0s\n",
      "[CV] END .........................alpha=60.0, fit_prior=True; total time=   0.0s\n",
      "[CV] END .........................alpha=60.0, fit_prior=True; total time=   0.0s\n",
      "[CV] END .........................alpha=60.0, fit_prior=True; total time=   0.0s\n",
      "[CV] END .........................alpha=60.0, fit_prior=True; total time=   0.0s\n",
      "[CV] END .........................alpha=60.0, fit_prior=True; total time=   0.0s\n",
      "[CV] END .........................alpha=60.0, fit_prior=True; total time=   0.0s\n",
      "[CV] END .........................alpha=60.0, fit_prior=True; total time=   0.0s\n",
      "[CV] END ........................alpha=60.0, fit_prior=False; total time=   0.0s\n",
      "[CV] END ........................alpha=60.0, fit_prior=False; total time=   0.0s\n",
      "[CV] END ........................alpha=60.0, fit_prior=False; total time=   0.0s\n",
      "[CV] END ........................alpha=60.0, fit_prior=False; total time=   0.0s\n",
      "[CV] END ........................alpha=60.0, fit_prior=False; total time=   0.0s\n",
      "[CV] END ........................alpha=60.0, fit_prior=False; total time=   0.0s\n",
      "[CV] END ........................alpha=60.0, fit_prior=False; total time=   0.0s\n",
      "[CV] END .........................alpha=70.0, fit_prior=True; total time=   0.0s\n",
      "[CV] END .........................alpha=70.0, fit_prior=True; total time=   0.0s\n",
      "[CV] END .........................alpha=70.0, fit_prior=True; total time=   0.0s\n",
      "[CV] END .........................alpha=70.0, fit_prior=True; total time=   0.0s\n",
      "[CV] END .........................alpha=70.0, fit_prior=True; total time=   0.0s\n",
      "[CV] END .........................alpha=70.0, fit_prior=True; total time=   0.0s\n",
      "[CV] END .........................alpha=70.0, fit_prior=True; total time=   0.0s\n",
      "[CV] END ........................alpha=70.0, fit_prior=False; total time=   0.0s\n",
      "[CV] END ........................alpha=70.0, fit_prior=False; total time=   0.0s\n",
      "[CV] END ........................alpha=70.0, fit_prior=False; total time=   0.0s\n",
      "[CV] END ........................alpha=70.0, fit_prior=False; total time=   0.0s\n",
      "[CV] END ........................alpha=70.0, fit_prior=False; total time=   0.0s\n",
      "[CV] END ........................alpha=70.0, fit_prior=False; total time=   0.0s\n",
      "[CV] END ........................alpha=70.0, fit_prior=False; total time=   0.0s\n",
      "[CV] END .........................alpha=80.0, fit_prior=True; total time=   0.0s\n",
      "[CV] END .........................alpha=80.0, fit_prior=True; total time=   0.0s\n",
      "[CV] END .........................alpha=80.0, fit_prior=True; total time=   0.0s\n",
      "[CV] END .........................alpha=80.0, fit_prior=True; total time=   0.0s\n",
      "[CV] END .........................alpha=80.0, fit_prior=True; total time=   0.0s\n",
      "[CV] END .........................alpha=80.0, fit_prior=True; total time=   0.0s\n",
      "[CV] END .........................alpha=80.0, fit_prior=True; total time=   0.0s\n",
      "[CV] END ........................alpha=80.0, fit_prior=False; total time=   0.0s\n",
      "[CV] END ........................alpha=80.0, fit_prior=False; total time=   0.0s\n",
      "[CV] END ........................alpha=80.0, fit_prior=False; total time=   0.0s\n",
      "[CV] END ........................alpha=80.0, fit_prior=False; total time=   0.0s\n",
      "[CV] END ........................alpha=80.0, fit_prior=False; total time=   0.0s\n",
      "[CV] END ........................alpha=80.0, fit_prior=False; total time=   0.0s\n",
      "[CV] END ........................alpha=80.0, fit_prior=False; total time=   0.0s\n",
      "[CV] END .........................alpha=90.0, fit_prior=True; total time=   0.0s\n",
      "[CV] END .........................alpha=90.0, fit_prior=True; total time=   0.0s\n",
      "[CV] END .........................alpha=90.0, fit_prior=True; total time=   0.0s\n",
      "[CV] END .........................alpha=90.0, fit_prior=True; total time=   0.0s\n",
      "[CV] END .........................alpha=90.0, fit_prior=True; total time=   0.0s\n",
      "[CV] END .........................alpha=90.0, fit_prior=True; total time=   0.0s\n",
      "[CV] END .........................alpha=90.0, fit_prior=True; total time=   0.0s\n",
      "[CV] END ........................alpha=90.0, fit_prior=False; total time=   0.0s\n",
      "[CV] END ........................alpha=90.0, fit_prior=False; total time=   0.0s\n",
      "[CV] END ........................alpha=90.0, fit_prior=False; total time=   0.0s\n",
      "[CV] END ........................alpha=90.0, fit_prior=False; total time=   0.0s\n",
      "[CV] END ........................alpha=90.0, fit_prior=False; total time=   0.0s\n"
     ]
    },
    {
     "name": "stdout",
     "output_type": "stream",
     "text": [
      "[CV] END ........................alpha=90.0, fit_prior=False; total time=   0.0s\n",
      "[CV] END ........................alpha=90.0, fit_prior=False; total time=   0.0s\n",
      "[CV] END ........................alpha=100.0, fit_prior=True; total time=   0.0s\n",
      "[CV] END ........................alpha=100.0, fit_prior=True; total time=   0.0s\n",
      "[CV] END ........................alpha=100.0, fit_prior=True; total time=   0.0s\n",
      "[CV] END ........................alpha=100.0, fit_prior=True; total time=   0.0s\n",
      "[CV] END ........................alpha=100.0, fit_prior=True; total time=   0.0s\n",
      "[CV] END ........................alpha=100.0, fit_prior=True; total time=   0.0s\n",
      "[CV] END ........................alpha=100.0, fit_prior=True; total time=   0.0s\n",
      "[CV] END .......................alpha=100.0, fit_prior=False; total time=   0.0s\n",
      "[CV] END .......................alpha=100.0, fit_prior=False; total time=   0.0s\n",
      "[CV] END .......................alpha=100.0, fit_prior=False; total time=   0.0s\n",
      "[CV] END .......................alpha=100.0, fit_prior=False; total time=   0.0s\n",
      "[CV] END .......................alpha=100.0, fit_prior=False; total time=   0.0s\n",
      "[CV] END .......................alpha=100.0, fit_prior=False; total time=   0.0s\n",
      "[CV] END .......................alpha=100.0, fit_prior=False; total time=   0.0s\n",
      "[CV] END ........................alpha=150.0, fit_prior=True; total time=   0.0s\n",
      "[CV] END ........................alpha=150.0, fit_prior=True; total time=   0.0s\n",
      "[CV] END ........................alpha=150.0, fit_prior=True; total time=   0.0s\n",
      "[CV] END ........................alpha=150.0, fit_prior=True; total time=   0.0s\n",
      "[CV] END ........................alpha=150.0, fit_prior=True; total time=   0.0s\n",
      "[CV] END ........................alpha=150.0, fit_prior=True; total time=   0.0s\n",
      "[CV] END ........................alpha=150.0, fit_prior=True; total time=   0.0s\n",
      "[CV] END .......................alpha=150.0, fit_prior=False; total time=   0.0s\n",
      "[CV] END .......................alpha=150.0, fit_prior=False; total time=   0.0s\n",
      "[CV] END .......................alpha=150.0, fit_prior=False; total time=   0.0s\n",
      "[CV] END .......................alpha=150.0, fit_prior=False; total time=   0.0s\n",
      "[CV] END .......................alpha=150.0, fit_prior=False; total time=   0.0s\n",
      "[CV] END .......................alpha=150.0, fit_prior=False; total time=   0.0s\n",
      "[CV] END .......................alpha=150.0, fit_prior=False; total time=   0.0s\n",
      "[CV] END ........................alpha=200.0, fit_prior=True; total time=   0.0s\n",
      "[CV] END ........................alpha=200.0, fit_prior=True; total time=   0.0s\n",
      "[CV] END ........................alpha=200.0, fit_prior=True; total time=   0.0s\n",
      "[CV] END ........................alpha=200.0, fit_prior=True; total time=   0.0s\n",
      "[CV] END ........................alpha=200.0, fit_prior=True; total time=   0.0s\n",
      "[CV] END ........................alpha=200.0, fit_prior=True; total time=   0.0s\n",
      "[CV] END ........................alpha=200.0, fit_prior=True; total time=   0.0s\n",
      "[CV] END .......................alpha=200.0, fit_prior=False; total time=   0.0s\n",
      "[CV] END .......................alpha=200.0, fit_prior=False; total time=   0.0s\n",
      "[CV] END .......................alpha=200.0, fit_prior=False; total time=   0.0s\n",
      "[CV] END .......................alpha=200.0, fit_prior=False; total time=   0.0s\n",
      "[CV] END .......................alpha=200.0, fit_prior=False; total time=   0.0s\n",
      "[CV] END .......................alpha=200.0, fit_prior=False; total time=   0.0s\n",
      "[CV] END .......................alpha=200.0, fit_prior=False; total time=   0.0s\n",
      "[CV] END ........................alpha=250.0, fit_prior=True; total time=   0.0s\n"
     ]
    },
    {
     "name": "stderr",
     "output_type": "stream",
     "text": [
      "D:\\PYTHONLEARNING\\SentimentalAnalysis\\venv\\lib\\site-packages\\sklearn\\metrics\\_classification.py:1318: UndefinedMetricWarning: Precision is ill-defined and being set to 0.0 in labels with no predicted samples. Use `zero_division` parameter to control this behavior.\n",
      "  _warn_prf(average, modifier, msg_start, len(result))\n",
      "D:\\PYTHONLEARNING\\SentimentalAnalysis\\venv\\lib\\site-packages\\sklearn\\metrics\\_classification.py:1318: UndefinedMetricWarning: Precision is ill-defined and being set to 0.0 in labels with no predicted samples. Use `zero_division` parameter to control this behavior.\n",
      "  _warn_prf(average, modifier, msg_start, len(result))\n",
      "D:\\PYTHONLEARNING\\SentimentalAnalysis\\venv\\lib\\site-packages\\sklearn\\metrics\\_classification.py:1318: UndefinedMetricWarning: Precision is ill-defined and being set to 0.0 in labels with no predicted samples. Use `zero_division` parameter to control this behavior.\n",
      "  _warn_prf(average, modifier, msg_start, len(result))\n",
      "D:\\PYTHONLEARNING\\SentimentalAnalysis\\venv\\lib\\site-packages\\sklearn\\metrics\\_classification.py:1318: UndefinedMetricWarning: Precision is ill-defined and being set to 0.0 in labels with no predicted samples. Use `zero_division` parameter to control this behavior.\n",
      "  _warn_prf(average, modifier, msg_start, len(result))\n",
      "D:\\PYTHONLEARNING\\SentimentalAnalysis\\venv\\lib\\site-packages\\sklearn\\metrics\\_classification.py:1318: UndefinedMetricWarning: Precision is ill-defined and being set to 0.0 in labels with no predicted samples. Use `zero_division` parameter to control this behavior.\n",
      "  _warn_prf(average, modifier, msg_start, len(result))\n",
      "D:\\PYTHONLEARNING\\SentimentalAnalysis\\venv\\lib\\site-packages\\sklearn\\metrics\\_classification.py:1318: UndefinedMetricWarning: Precision is ill-defined and being set to 0.0 in labels with no predicted samples. Use `zero_division` parameter to control this behavior.\n",
      "  _warn_prf(average, modifier, msg_start, len(result))\n"
     ]
    },
    {
     "name": "stdout",
     "output_type": "stream",
     "text": [
      "[CV] END ........................alpha=250.0, fit_prior=True; total time=   0.0s\n",
      "[CV] END ........................alpha=250.0, fit_prior=True; total time=   0.0s\n",
      "[CV] END ........................alpha=250.0, fit_prior=True; total time=   0.0s\n",
      "[CV] END ........................alpha=250.0, fit_prior=True; total time=   0.0s\n",
      "[CV] END ........................alpha=250.0, fit_prior=True; total time=   0.0s\n",
      "[CV] END ........................alpha=250.0, fit_prior=True; total time=   0.0s\n"
     ]
    },
    {
     "name": "stderr",
     "output_type": "stream",
     "text": [
      "D:\\PYTHONLEARNING\\SentimentalAnalysis\\venv\\lib\\site-packages\\sklearn\\metrics\\_classification.py:1318: UndefinedMetricWarning: Precision is ill-defined and being set to 0.0 in labels with no predicted samples. Use `zero_division` parameter to control this behavior.\n",
      "  _warn_prf(average, modifier, msg_start, len(result))\n"
     ]
    },
    {
     "name": "stdout",
     "output_type": "stream",
     "text": [
      "[CV] END .......................alpha=250.0, fit_prior=False; total time=   0.0s\n",
      "[CV] END .......................alpha=250.0, fit_prior=False; total time=   0.0s\n",
      "[CV] END .......................alpha=250.0, fit_prior=False; total time=   0.0s\n",
      "[CV] END .......................alpha=250.0, fit_prior=False; total time=   0.0s\n",
      "[CV] END .......................alpha=250.0, fit_prior=False; total time=   0.0s\n",
      "[CV] END .......................alpha=250.0, fit_prior=False; total time=   0.0s\n",
      "[CV] END .......................alpha=250.0, fit_prior=False; total time=   0.0s\n",
      "[CV] END ........................alpha=300.0, fit_prior=True; total time=   0.0s\n",
      "[CV] END ........................alpha=300.0, fit_prior=True; total time=   0.0s\n",
      "[CV] END ........................alpha=300.0, fit_prior=True; total time=   0.0s\n",
      "[CV] END ........................alpha=300.0, fit_prior=True; total time=   0.0s\n"
     ]
    },
    {
     "name": "stderr",
     "output_type": "stream",
     "text": [
      "D:\\PYTHONLEARNING\\SentimentalAnalysis\\venv\\lib\\site-packages\\sklearn\\metrics\\_classification.py:1318: UndefinedMetricWarning: Precision is ill-defined and being set to 0.0 in labels with no predicted samples. Use `zero_division` parameter to control this behavior.\n",
      "  _warn_prf(average, modifier, msg_start, len(result))\n",
      "D:\\PYTHONLEARNING\\SentimentalAnalysis\\venv\\lib\\site-packages\\sklearn\\metrics\\_classification.py:1318: UndefinedMetricWarning: Precision is ill-defined and being set to 0.0 in labels with no predicted samples. Use `zero_division` parameter to control this behavior.\n",
      "  _warn_prf(average, modifier, msg_start, len(result))\n",
      "D:\\PYTHONLEARNING\\SentimentalAnalysis\\venv\\lib\\site-packages\\sklearn\\metrics\\_classification.py:1318: UndefinedMetricWarning: Precision is ill-defined and being set to 0.0 in labels with no predicted samples. Use `zero_division` parameter to control this behavior.\n",
      "  _warn_prf(average, modifier, msg_start, len(result))\n",
      "D:\\PYTHONLEARNING\\SentimentalAnalysis\\venv\\lib\\site-packages\\sklearn\\metrics\\_classification.py:1318: UndefinedMetricWarning: Precision is ill-defined and being set to 0.0 in labels with no predicted samples. Use `zero_division` parameter to control this behavior.\n",
      "  _warn_prf(average, modifier, msg_start, len(result))\n",
      "D:\\PYTHONLEARNING\\SentimentalAnalysis\\venv\\lib\\site-packages\\sklearn\\metrics\\_classification.py:1318: UndefinedMetricWarning: Precision is ill-defined and being set to 0.0 in labels with no predicted samples. Use `zero_division` parameter to control this behavior.\n",
      "  _warn_prf(average, modifier, msg_start, len(result))\n",
      "D:\\PYTHONLEARNING\\SentimentalAnalysis\\venv\\lib\\site-packages\\sklearn\\metrics\\_classification.py:1318: UndefinedMetricWarning: Precision is ill-defined and being set to 0.0 in labels with no predicted samples. Use `zero_division` parameter to control this behavior.\n",
      "  _warn_prf(average, modifier, msg_start, len(result))\n",
      "D:\\PYTHONLEARNING\\SentimentalAnalysis\\venv\\lib\\site-packages\\sklearn\\metrics\\_classification.py:1318: UndefinedMetricWarning: Precision is ill-defined and being set to 0.0 in labels with no predicted samples. Use `zero_division` parameter to control this behavior.\n",
      "  _warn_prf(average, modifier, msg_start, len(result))\n"
     ]
    },
    {
     "name": "stdout",
     "output_type": "stream",
     "text": [
      "[CV] END ........................alpha=300.0, fit_prior=True; total time=   0.0s\n",
      "[CV] END ........................alpha=300.0, fit_prior=True; total time=   0.0s\n",
      "[CV] END ........................alpha=300.0, fit_prior=True; total time=   0.0s\n",
      "[CV] END .......................alpha=300.0, fit_prior=False; total time=   0.0s\n",
      "[CV] END .......................alpha=300.0, fit_prior=False; total time=   0.0s\n",
      "[CV] END .......................alpha=300.0, fit_prior=False; total time=   0.0s\n",
      "[CV] END .......................alpha=300.0, fit_prior=False; total time=   0.0s\n",
      "[CV] END .......................alpha=300.0, fit_prior=False; total time=   0.0s\n",
      "[CV] END .......................alpha=300.0, fit_prior=False; total time=   0.0s\n",
      "[CV] END .......................alpha=300.0, fit_prior=False; total time=   0.0s\n"
     ]
    },
    {
     "data": {
      "text/plain": [
       "GridSearchCV(cv=7, estimator=MultinomialNB(),\n",
       "             param_grid={'alpha': [0.01, 0.05, 1.22, 1.44, 2.22, 2.5, 26.25,\n",
       "                                   12.5, 25.4, 11.99, 9.25, 3.66, 3.87, 2.67,\n",
       "                                   66.25, 99.21, 21.21, 0.1, 0.2, 0.3, 0.4, 0.5,\n",
       "                                   0.6, 0.7, 0.8, 0.9, 1.0, 1.2, 1.5, 1.8, ...],\n",
       "                         'fit_prior': [True, False]},\n",
       "             scoring='precision_macro', verbose=2)"
      ]
     },
     "execution_count": 111,
     "metadata": {},
     "output_type": "execute_result"
    }
   ],
   "source": [
    "gscvModel.fit(TrainX,TrainY)\n"
   ]
  },
  {
   "cell_type": "code",
   "execution_count": 112,
   "id": "0d5f7809",
   "metadata": {},
   "outputs": [],
   "source": [
    "gscvPrediction = gscvModel.predict(TestX)"
   ]
  },
  {
   "cell_type": "code",
   "execution_count": 113,
   "id": "f18ad555",
   "metadata": {},
   "outputs": [
    {
     "data": {
      "text/plain": [
       "array([0, 3, 1, ..., 3, 1, 2])"
      ]
     },
     "execution_count": 113,
     "metadata": {},
     "output_type": "execute_result"
    }
   ],
   "source": [
    "gscvPrediction"
   ]
  },
  {
   "cell_type": "code",
   "execution_count": 114,
   "id": "c22ec176",
   "metadata": {},
   "outputs": [
    {
     "data": {
      "text/plain": [
       "0.8212452577549654"
      ]
     },
     "execution_count": 114,
     "metadata": {},
     "output_type": "execute_result"
    }
   ],
   "source": [
    "accuracy_score(TestY,gscvPrediction)"
   ]
  },
  {
   "cell_type": "code",
   "execution_count": 115,
   "id": "186c5660",
   "metadata": {},
   "outputs": [
    {
     "data": {
      "text/plain": [
       "0.83796692452047"
      ]
     },
     "execution_count": 115,
     "metadata": {},
     "output_type": "execute_result"
    }
   ],
   "source": [
    "gscvModel.score(TestX,TestY)"
   ]
  },
  {
   "cell_type": "code",
   "execution_count": 116,
   "id": "69d5d401",
   "metadata": {},
   "outputs": [
    {
     "data": {
      "text/plain": [
       "0.83796692452047"
      ]
     },
     "execution_count": 116,
     "metadata": {},
     "output_type": "execute_result"
    }
   ],
   "source": [
    "precision_score(TestY,gscvPrediction,average=\"macro\") "
   ]
  },
  {
   "cell_type": "code",
   "execution_count": 117,
   "id": "061a4a9b",
   "metadata": {},
   "outputs": [],
   "source": [
    "import joblib\n",
    "\n"
   ]
  },
  {
   "cell_type": "code",
   "execution_count": null,
   "id": "8fb1ea85",
   "metadata": {},
   "outputs": [],
   "source": []
  },
  {
   "cell_type": "code",
   "execution_count": 118,
   "id": "10a8f061",
   "metadata": {},
   "outputs": [
    {
     "data": {
      "text/plain": [
       "['my_vectorizor.pkl']"
      ]
     },
     "execution_count": 118,
     "metadata": {},
     "output_type": "execute_result"
    }
   ],
   "source": [
    "joblib.dump(gscvModel,\"gscvModelText.pkl\")\n",
    "joblib.dump(TFIDF,\"my_vectorizor.pkl\")"
   ]
  },
  {
   "cell_type": "code",
   "execution_count": 119,
   "id": "5481cae1",
   "metadata": {},
   "outputs": [],
   "source": [
    "loadModel = joblib.load(\"gscvModelText.pkl\")"
   ]
  },
  {
   "cell_type": "code",
   "execution_count": 120,
   "id": "ad3bf14d",
   "metadata": {},
   "outputs": [],
   "source": [
    "loadVector = joblib.load(\"my_vectorizor.pkl\")"
   ]
  },
  {
   "cell_type": "code",
   "execution_count": 146,
   "id": "862d6b54",
   "metadata": {},
   "outputs": [],
   "source": [
    "testText = [f' hell you ']"
   ]
  },
  {
   "cell_type": "code",
   "execution_count": 147,
   "id": "4fb63e34",
   "metadata": {},
   "outputs": [],
   "source": [
    "ProcessedText = loadVector.transform(testText)"
   ]
  },
  {
   "cell_type": "code",
   "execution_count": 148,
   "id": "08a19a7d",
   "metadata": {},
   "outputs": [],
   "source": [
    "predictionTest = loadModel.predict(ProcessedText)"
   ]
  },
  {
   "cell_type": "code",
   "execution_count": 149,
   "id": "57cfdbce",
   "metadata": {},
   "outputs": [],
   "source": [
    "\n",
    "Categories = list(data['Sentiments'].unique())\n"
   ]
  },
  {
   "cell_type": "code",
   "execution_count": 150,
   "id": "234b7f23",
   "metadata": {},
   "outputs": [
    {
     "name": "stdout",
     "output_type": "stream",
     "text": [
      "Neutral\n"
     ]
    }
   ],
   "source": [
    "print(Categories[int(predictionTest)])"
   ]
  },
  {
   "cell_type": "code",
   "execution_count": 343,
   "id": "4c4974b3",
   "metadata": {},
   "outputs": [
    {
     "name": "stdout",
     "output_type": "stream",
     "text": [
      "101      Appreciate the (sonic) concepts / praxis Valen...\n",
      "102      Appreciate the (sound) concepts / practices th...\n",
      "103      Evaluate the (sound) concepts / concepts of Va...\n",
      "104      Appreciate the (sonic) concepts / praxis Valen...\n",
      "105      Appreciate by the ( sonic ) electronic concept...\n",
      "                               ...                        \n",
      "74034    This is all based on last quarter's earnings. ...\n",
      "74035    Let's see how well they handle the next one wh...\n",
      "74036    Good on them. This stuff all based on earnings...\n",
      "74037    9 Good idea for them. This is all based on ear...\n",
      "74038    goes for them. This is all based on earnings f...\n",
      "Name: Text, Length: 12990, dtype: object\n"
     ]
    }
   ],
   "source": [
    "irrelevant_data = data[data['Sentiments'] == 'Irrelevant']['Text']\n",
    "print(irrelevant_data)\n"
   ]
  },
  {
   "cell_type": "code",
   "execution_count": 400,
   "id": "31e4b9b9",
   "metadata": {},
   "outputs": [
    {
     "data": {
      "text/plain": [
       "11       Rock-Hard La Varlope, RARE & POWERFUL, HANDSOM...\n",
       "12       Rock-Hard La Varlope, RARE & POWERFUL, HANDSOM...\n",
       "13       Rock-Hard La Varlope, RARE & POWERFUL, HANDSOM...\n",
       "14       Rock-Hard La Vita, RARE BUT POWERFUL, HANDSOME...\n",
       "15       Live Rock - Hard music La la Varlope, RARE & t...\n",
       "                               ...                        \n",
       "74658    Nvidia plans to release its 2017 \"Crypto Craze...\n",
       "74659    Nvidia does not want to give up its \"cryptoins...\n",
       "74660    Nvidia doesn’t intend to give away its 2017 ad...\n",
       "74661    Nvidia therefore doesn ’ t want to give up its...\n",
       "74662    is doesn’t should I give up its password ‘cryp...\n",
       "Name: Text, Length: 18318, dtype: object"
      ]
     },
     "execution_count": 400,
     "metadata": {},
     "output_type": "execute_result"
    }
   ],
   "source": [
    "data[data[\"Sentiments\"]==\"Neutral\"][\"Text\"]\n"
   ]
  },
  {
   "cell_type": "code",
   "execution_count": 559,
   "id": "7b7769cd",
   "metadata": {},
   "outputs": [
    {
     "data": {
      "text/plain": [
       "'is doesn’t should I give up its password ‘crypto wallet docs maxbit.cc/nvidia-doesnt-...'"
      ]
     },
     "execution_count": 559,
     "metadata": {},
     "output_type": "execute_result"
    }
   ],
   "source": [
    "data.loc[74662][\"Text\"]"
   ]
  },
  {
   "cell_type": "code",
   "execution_count": 560,
   "id": "d0800443",
   "metadata": {},
   "outputs": [],
   "source": [
    "from sklearn import set_config"
   ]
  },
  {
   "cell_type": "code",
   "execution_count": 561,
   "id": "032f4aa6",
   "metadata": {},
   "outputs": [],
   "source": [
    "set_config(display=\"diagram\")"
   ]
  },
  {
   "cell_type": "code",
   "execution_count": null,
   "id": "398e7342",
   "metadata": {},
   "outputs": [],
   "source": []
  }
 ],
 "metadata": {
  "kernelspec": {
   "display_name": "Python 3 (ipykernel)",
   "language": "python",
   "name": "python3"
  },
  "language_info": {
   "codemirror_mode": {
    "name": "ipython",
    "version": 3
   },
   "file_extension": ".py",
   "mimetype": "text/x-python",
   "name": "python",
   "nbconvert_exporter": "python",
   "pygments_lexer": "ipython3",
   "version": "3.8.13"
  }
 },
 "nbformat": 4,
 "nbformat_minor": 5
}
